{
  "nbformat": 4,
  "nbformat_minor": 0,
  "metadata": {
    "colab": {
      "provenance": [],
      "authorship_tag": "ABX9TyMNW2jDdtrBfl2+AwZG2+j1",
      "include_colab_link": true
    },
    "kernelspec": {
      "name": "python3",
      "display_name": "Python 3"
    },
    "language_info": {
      "name": "python"
    }
  },
  "cells": [
    {
      "cell_type": "markdown",
      "metadata": {
        "id": "view-in-github",
        "colab_type": "text"
      },
      "source": [
        "<a href=\"https://colab.research.google.com/github/andreamurari/percolation_project/blob/main/percolation_project.ipynb\" target=\"_parent\"><img src=\"https://colab.research.google.com/assets/colab-badge.svg\" alt=\"Open In Colab\"/></a>"
      ]
    },
    {
      "cell_type": "code",
      "execution_count": 1,
      "metadata": {
        "id": "iEIGS-czSwsg"
      },
      "outputs": [],
      "source": [
        "import math\n",
        "import numpy as np\n",
        "import matplotlib.pyplot as plt\n",
        "from scipy.stats import poisson\n",
        "from sklearn.cluster import DBSCAN"
      ]
    },
    {
      "cell_type": "markdown",
      "source": [
        "#FUNZIONI"
      ],
      "metadata": {
        "id": "QJ7UeL-hJNp4"
      }
    },
    {
      "cell_type": "code",
      "source": [
        "#FUNZIONE CHE GENERA COORDINATE CON UNA POIS LAMBA * T^2\n",
        "\n",
        "def generate_poisson_coordinates(T, k):\n",
        "  # Step 1: Generate N from Poisson distribution\n",
        "  N = np.random.poisson(k * T**2)\n",
        "  # Step 2: Check if N is zero and handle termination\n",
        "  if N == 0:\n",
        "    return []\n",
        "  # Step 3: Generate random numbers and scale to coordinates\n",
        "  else:\n",
        "    coordinates_x = []\n",
        "    coordinates_y = []\n",
        "    for _ in range(N):\n",
        "      U = np.random.random()\n",
        "      V = np.random.random()\n",
        "      coordinates_x.append(U * T)\n",
        "      coordinates_y.append(V * T)\n",
        "  print (f\"N = {N} \\nCoordinates X = {coordinates_x} \\nCoordinates Y = {coordinates_y}\")\n",
        "  return coordinates_x, coordinates_y"
      ],
      "metadata": {
        "id": "3rTh4ff-Yv-M"
      },
      "execution_count": 74,
      "outputs": []
    },
    {
      "cell_type": "code",
      "source": [
        "#FUNZIONE CHE CREA CLUSTERS\n",
        "def clusterizza_dbscan(coordinates_x, coordinates_y, eps=1, min_samples=2):\n",
        "# Combine x and y coordinates into a single NumPy array\n",
        "  coordinates = np.array(list(zip(coordinates_x, coordinates_y)))\n",
        "\n",
        "  # Create a DBSCAN instance with specified parameters\n",
        "  db = DBSCAN(eps=eps, min_samples=min_samples)\n",
        "\n",
        "  # Fit the model to the data points\n",
        "  db.fit(coordinates)\n",
        "\n",
        "  # Extract cluster labels for each point\n",
        "  cluster_labels = db.labels_\n",
        "\n",
        "  # Create a list to store clusters (indices of points in each cluster)\n",
        "  clusters = []\n",
        "  for i, label in enumerate(cluster_labels):\n",
        "    # Skip noise points (labeled -1)\n",
        "    if label == -1:\n",
        "      continue\n",
        "    # Find all points with the same label (belonging to the same cluster)\n",
        "    cluster_indices = [j for j, l in enumerate(cluster_labels) if l == label]\n",
        "    clusters.append(cluster_indices)\n",
        "\n",
        "  return clusters"
      ],
      "metadata": {
        "id": "f1zhYdg2jN5_"
      },
      "execution_count": 135,
      "outputs": []
    },
    {
      "cell_type": "code",
      "source": [
        "def remove_duplicates(clusters_with_doubles):\n",
        "  for i in range(len(clusters_with_doubles)):\n",
        "    for j in range(i+1, len(clusters_with_doubles)):\n",
        "      if clusters_with_doubles[i] == clusters_with_doubles[j]:\n",
        "        clusters_with_doubles[j] = \"duplicato\"\n",
        "  clusters = []\n",
        "  for element in clusters_with_doubles:\n",
        "    if element != \"duplicato\":\n",
        "      clusters.append(element)\n",
        "  return clusters"
      ],
      "metadata": {
        "id": "bN6fMTzihu1b"
      },
      "execution_count": 142,
      "outputs": []
    },
    {
      "cell_type": "code",
      "source": [
        "#FUNZIONE PER SIZE DEL CLUSTER PIU GRANDE\n",
        "def largest_cluster_size (clusters):\n",
        "  max_cluster_size = 0\n",
        "  for cluster in clusters:\n",
        "    if len(cluster) > max_cluster_size:\n",
        "      max_cluster_size = len(cluster)\n",
        "  return max_cluster_size"
      ],
      "metadata": {
        "id": "tmXnxIpD868S"
      },
      "execution_count": 143,
      "outputs": []
    },
    {
      "cell_type": "code",
      "source": [
        "#FUNZIONE CHE RESTITUISCE IL NUMERO DI CLUSTERS\n",
        "def number_of_clusters(clusters):\n",
        "  return len(clusters)"
      ],
      "metadata": {
        "id": "nQodVhIGI7nY"
      },
      "execution_count": 144,
      "outputs": []
    },
    {
      "cell_type": "markdown",
      "source": [
        "#SVOLGIMENTO"
      ],
      "metadata": {
        "id": "xbz4bbkxJJiM"
      }
    },
    {
      "cell_type": "code",
      "source": [
        "T = 5 #MAX DOMINIO\n",
        "l = 1 #LAMBDA\n",
        "M = 10 #NUMERO ITERAZIONI"
      ],
      "metadata": {
        "id": "r6CuGsFuUh7L"
      },
      "execution_count": 145,
      "outputs": []
    },
    {
      "cell_type": "code",
      "source": [
        "coordinates_x, coordinates_y = generate_poisson_coordinates(T, l)"
      ],
      "metadata": {
        "colab": {
          "base_uri": "https://localhost:8080/"
        },
        "id": "5EZybSIgdbh2",
        "outputId": "1d5f4887-7f05-4a3d-a393-53ede8ca1630"
      },
      "execution_count": 146,
      "outputs": [
        {
          "output_type": "stream",
          "name": "stdout",
          "text": [
            "N = 29 \n",
            "Coordinates X = [4.346133095697621, 3.4079811889680918, 0.4106079649338279, 1.0398345560501459, 2.3707932755843952, 1.6001093775874187, 3.27334078359274, 2.3792736292100125, 1.5610104750570686, 3.4482562478437897, 0.6820632161359685, 2.2317851931198787, 2.6702341071031626, 3.2757741527986353, 3.2887921224320973, 1.7799960520983444, 2.886500429532375, 1.784930216048044, 3.185013740831524, 4.124535594568996, 4.291481201023258, 1.9168903247642577, 2.0057509202008657, 4.5799541780740025, 2.481482910907232, 4.038898616543208, 1.7400823380141457, 1.6915801864604978, 4.9788484083277815] \n",
            "Coordinates Y = [1.0448880294001976, 3.24398275022447, 4.0512930157179845, 0.7849990605847507, 2.9797567707508494, 2.9550693710429767, 1.1308799237431195, 0.14153333938786927, 3.8027379186989076, 0.36952168796066165, 1.4620266640658701, 3.488894900738482, 3.496348683362619, 0.3092063658047567, 3.837775225282185, 0.7990477577818145, 0.6093865398703319, 2.7714191565021116, 2.737108176831295, 3.6614630904482, 3.0348850408976284, 1.2336703230153712, 0.42255453082827854, 3.7842773741328295, 2.225852657718661, 3.0004284517051447, 2.691362025039816, 0.7617176132578107, 0.607004371792289]\n"
          ]
        }
      ]
    },
    {
      "cell_type": "code",
      "source": [
        "clusters_with_duplicates = clusterizza_dbscan(coordinates_x, coordinates_y)\n",
        "clusters = remove_duplicates(clusters_with_duplicates)\n",
        "print(clusters)"
      ],
      "metadata": {
        "colab": {
          "base_uri": "https://localhost:8080/"
        },
        "id": "ZsOmO3MN8O0F",
        "outputId": "03356d88-77be-4d6a-b13a-fc63f064df16"
      },
      "execution_count": 147,
      "outputs": [
        {
          "output_type": "stream",
          "name": "stdout",
          "text": [
            "[[0, 28], [1, 4, 5, 8, 11, 12, 14, 17, 18, 19, 20, 23, 24, 25, 26], [3, 6, 7, 9, 10, 13, 15, 16, 21, 22, 27]]\n"
          ]
        }
      ]
    },
    {
      "cell_type": "code",
      "source": [
        "largest_cluster_size(clusters)"
      ],
      "metadata": {
        "colab": {
          "base_uri": "https://localhost:8080/"
        },
        "id": "NHAHw616Dpw0",
        "outputId": "f9492c09-977b-49d4-96b2-5a5c56583f45"
      },
      "execution_count": 148,
      "outputs": [
        {
          "output_type": "execute_result",
          "data": {
            "text/plain": [
              "15"
            ]
          },
          "metadata": {},
          "execution_count": 148
        }
      ]
    },
    {
      "cell_type": "code",
      "source": [
        "number_of_clusters(clusters)"
      ],
      "metadata": {
        "colab": {
          "base_uri": "https://localhost:8080/"
        },
        "id": "3Eli-wuuKxi5",
        "outputId": "f6142d07-30eb-4029-c044-a56f7d6bd1eb"
      },
      "execution_count": 149,
      "outputs": [
        {
          "output_type": "execute_result",
          "data": {
            "text/plain": [
              "3"
            ]
          },
          "metadata": {},
          "execution_count": 149
        }
      ]
    },
    {
      "cell_type": "code",
      "source": [
        "plt.figure(figsize = (10, 10))\n",
        "plt.scatter (coordinates_x, coordinates_y)\n",
        "plt.xticks(range(0, T + 1, 1))\n",
        "plt.yticks(range(0, T + 1, 1))\n",
        "plt.show()"
      ],
      "metadata": {
        "id": "0l3fODE7fh3l",
        "colab": {
          "base_uri": "https://localhost:8080/",
          "height": 836
        },
        "outputId": "1a260e00-cbc0-4a23-879e-780e278c2758"
      },
      "execution_count": 150,
      "outputs": [
        {
          "output_type": "display_data",
          "data": {
            "text/plain": [
              "<Figure size 1000x1000 with 1 Axes>"
            ],
            "image/png": "[encoded data removed]"
          },
          "metadata": {}
        }
      ]
    },
    {
      "cell_type": "code",
      "source": [
        "clusters[0]"
      ],
      "metadata": {
        "colab": {
          "base_uri": "https://localhost:8080/"
        },
        "id": "cqsBLcwIdDfp",
        "outputId": "28b82475-ae69-4834-e410-dc6d78c087cc"
      },
      "execution_count": 153,
      "outputs": [
        {
          "output_type": "execute_result",
          "data": {
            "text/plain": [
              "[0, 28]"
            ]
          },
          "metadata": {},
          "execution_count": 153
        }
      ]
    },
    {
      "cell_type": "code",
      "source": [],
      "metadata": {
        "id": "xsulKGm9gNSf"
      },
      "execution_count": null,
      "outputs": []
    }
  ]
}