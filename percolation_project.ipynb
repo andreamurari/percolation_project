{
  "nbformat": 4,
  "nbformat_minor": 0,
  "metadata": {
    "colab": {
      "provenance": [],
      "authorship_tag": "ABX9TyPCbofXSrhL0QhxDgjF7GJ6",
      "include_colab_link": true
    },
    "kernelspec": {
      "name": "python3",
      "display_name": "Python 3"
    },
    "language_info": {
      "name": "python"
    }
  },
  "cells": [
    {
      "cell_type": "markdown",
      "metadata": {
        "id": "view-in-github",
        "colab_type": "text"
      },
      "source": [
        "<a href=\"https://colab.research.google.com/github/andreamurari/percolation_project/blob/main/percolation_project.ipynb\" target=\"_parent\"><img src=\"https://colab.research.google.com/assets/colab-badge.svg\" alt=\"Open In Colab\"/></a>"
      ]
    },
    {
      "cell_type": "code",
      "execution_count": 1,
      "metadata": {
        "id": "iEIGS-czSwsg"
      },
      "outputs": [],
      "source": [
        "import math\n",
        "import numpy as np\n",
        "import matplotlib.pyplot as plt\n",
        "from scipy.stats import poisson\n",
        "from sklearn.cluster import DBSCAN"
      ]
    },
    {
      "cell_type": "markdown",
      "source": [
        "#FUNZIONI"
      ],
      "metadata": {
        "id": "QJ7UeL-hJNp4"
      }
    },
    {
      "cell_type": "code",
      "source": [
        "#FUNZIONE CHE GENERA COORDINATE\n",
        "\n",
        "def generate_poisson_coordinates(T, k):\n",
        "  # Step 1: Generate N from Poisson distribution\n",
        "  N = np.random.poisson(k * T**2)\n",
        "  # Step 2: Check if N is zero and handle termination\n",
        "  if N == 0:\n",
        "    return []\n",
        "  # Step 3: Generate random numbers and scale to coordinates\n",
        "  else:\n",
        "    coordinates_x = []\n",
        "    coordinates_y = []\n",
        "    for _ in range(N):\n",
        "      U = np.random.random()\n",
        "      V = np.random.random()\n",
        "      coordinates_x.append(U * T)\n",
        "      coordinates_y.append(V * T)\n",
        "  print (f\"N = {N} \\nCoordinates X = {coordinates_x} \\nCoordinates Y = {coordinates_y}\")\n",
        "  return coordinates_x, coordinates_y"
      ],
      "metadata": {
        "id": "3rTh4ff-Yv-M"
      },
      "execution_count": 2,
      "outputs": []
    },
    {
      "cell_type": "code",
      "source": [
        "#FUNZIONE CHE CREA CLUSTER\n",
        "def clusterizza_e_rimuovi_duplicati(coordinates_x, coordinates_y, eps=1, min_samples=1):\n",
        "  \"\"\"\n",
        "  Clusters points based on their distance using DBSCAN and removes duplicate clusters.\n",
        "\n",
        "  Args:\n",
        "    coordinates_x: List of x-coordinates.\n",
        "    coordinates_y: List of y-coordinates.\n",
        "    eps (float, optional): The maximum distance between two points to be considered neighbors. Defaults to 1.0.\n",
        "    min_samples (int, optional): The minimum number of samples (including a point itself) to form a dense region. Defaults to 2.\n",
        "\n",
        "  Returns:\n",
        "    A list of unique clusters, where each cluster is a list of point indices.\n",
        "  \"\"\"\n",
        "\n",
        "  # Combine x and y coordinates into a single NumPy array\n",
        "  coordinates = np.array(list(zip(coordinates_x, coordinates_y)))\n",
        "\n",
        "  # Create a DBSCAN instance with specified parameters\n",
        "  db = DBSCAN(eps=eps, min_samples=min_samples)\n",
        "\n",
        "  # Fit the model to the data points\n",
        "  db.fit(coordinates)\n",
        "\n",
        "  # Extract cluster labels for each point\n",
        "  cluster_labels = db.labels_\n",
        "\n",
        "  # Create a dictionary to store clusters efficiently (avoid duplicates)\n",
        "  clusters = {}\n",
        "  for i, label in enumerate(cluster_labels):\n",
        "    # Skip noise points (labeled -1)\n",
        "    if label == -1:\n",
        "      continue\n",
        "    # Add points to their cluster (dictionary key) using sets to remove duplicates within a cluster\n",
        "    clusters.setdefault(label, set()).add(i)\n",
        "\n",
        "  unique_clusters = list(clusters.values())\n",
        "  return unique_clusters"
      ],
      "metadata": {
        "id": "f1zhYdg2jN5_"
      },
      "execution_count": 60,
      "outputs": []
    },
    {
      "cell_type": "code",
      "source": [
        "#FUNZIONE PER SIZE DEL CLUSTER PIU GRANDE\n",
        "def largest_cluster_size (clusters):\n",
        "  max_cluster_size = 0\n",
        "  for cluster in clusters:\n",
        "    if len(cluster) > max_cluster_size:\n",
        "      max_cluster_size = len(cluster)\n",
        "  return max_cluster_size"
      ],
      "metadata": {
        "id": "tmXnxIpD868S"
      },
      "execution_count": 41,
      "outputs": []
    },
    {
      "cell_type": "code",
      "source": [
        "#FUNZIONE CHE RESTITUISCE IL NUMERO DI CLUSTERS\n",
        "def number_of_clusters(clusters):\n",
        "  return len(clusters)"
      ],
      "metadata": {
        "id": "nQodVhIGI7nY"
      },
      "execution_count": 42,
      "outputs": []
    },
    {
      "cell_type": "markdown",
      "source": [
        "#SVOLGIMENTO"
      ],
      "metadata": {
        "id": "xbz4bbkxJJiM"
      }
    },
    {
      "cell_type": "code",
      "source": [
        "T = 2\n",
        "l = 1"
      ],
      "metadata": {
        "id": "r6CuGsFuUh7L"
      },
      "execution_count": 50,
      "outputs": []
    },
    {
      "cell_type": "code",
      "source": [
        "coordinates_x, coordinates_y = generate_poisson_coordinates(T, l)"
      ],
      "metadata": {
        "colab": {
          "base_uri": "https://localhost:8080/"
        },
        "id": "5EZybSIgdbh2",
        "outputId": "f58befd6-c242-4eb8-d385-bf75d73ce881"
      },
      "execution_count": 54,
      "outputs": [
        {
          "output_type": "stream",
          "name": "stdout",
          "text": [
            "N = 3 \n",
            "Coordinates X = [1.6613539618179844, 0.293694697122177, 1.3845252617149668] \n",
            "Coordinates Y = [1.5646555184549908, 1.3541696038430076, 0.7256090131755926]\n"
          ]
        }
      ]
    },
    {
      "cell_type": "code",
      "source": [
        "plt.figure(figsize = (10, 10))\n",
        "plt.scatter (coordinates_x, coordinates_y)\n",
        "plt.xticks(range(0, T + 1, 1))\n",
        "plt.yticks(range(0, T + 1, 1))\n",
        "plt.show()"
      ],
      "metadata": {
        "id": "0l3fODE7fh3l",
        "colab": {
          "base_uri": "https://localhost:8080/",
          "height": 836
        },
        "outputId": "a349a58c-1a8b-4276-9a9f-e76906416cb5"
      },
      "execution_count": 55,
      "outputs": [
        {
          "output_type": "display_data",
          "data": {
            "text/plain": [
              "<Figure size 1000x1000 with 1 Axes>"
            ],
            "image/png": "[encoded data removed]"
          },
          "metadata": {}
        }
      ]
    },
    {
      "cell_type": "code",
      "source": [
        "clusters = clusterizza_e_rimuovi_duplicati(coordinates_x, coordinates_y)\n",
        "print(clusters)"
      ],
      "metadata": {
        "colab": {
          "base_uri": "https://localhost:8080/"
        },
        "id": "ZsOmO3MN8O0F",
        "outputId": "e588be56-a532-40c7-adfa-0b80bba5d14c"
      },
      "execution_count": 56,
      "outputs": [
        {
          "output_type": "stream",
          "name": "stdout",
          "text": [
            "[{0, 2}]\n"
          ]
        }
      ]
    },
    {
      "cell_type": "code",
      "source": [
        "largest_cluster_size(clusters)"
      ],
      "metadata": {
        "colab": {
          "base_uri": "https://localhost:8080/"
        },
        "id": "NHAHw616Dpw0",
        "outputId": "39818db5-a356-4322-a384-592c6337315a"
      },
      "execution_count": 57,
      "outputs": [
        {
          "output_type": "execute_result",
          "data": {
            "text/plain": [
              "2"
            ]
          },
          "metadata": {},
          "execution_count": 57
        }
      ]
    },
    {
      "cell_type": "code",
      "source": [
        "number_of_clusters(clusters)"
      ],
      "metadata": {
        "colab": {
          "base_uri": "https://localhost:8080/"
        },
        "id": "3Eli-wuuKxi5",
        "outputId": "8b692e17-6c33-4a6d-bcec-bea7a5a8331e"
      },
      "execution_count": 58,
      "outputs": [
        {
          "output_type": "execute_result",
          "data": {
            "text/plain": [
              "1"
            ]
          },
          "metadata": {},
          "execution_count": 58
        }
      ]
    },
    {
      "cell_type": "code",
      "source": [
        "\n",
        "\n",
        "# Crea un array NumPy con le coordinate\n",
        "coordinates = np.array(list(zip(coordinates_x, coordinates_y)))\n",
        "\n",
        "# Crea un'istanza DBSCAN con parametri (ad esempio)\n",
        "db = DBSCAN(eps=1.0, min_samples=2)\n",
        "\n",
        "# Adatta il modello ai dati\n",
        "db.fit(coordinates)\n",
        "\n",
        "# Estrai le etichette di cluster\n",
        "cluster_labels = db.labels_\n",
        "\n",
        "# Stampa le etichette di cluster per ogni punto\n",
        "print(cluster_labels)\n"
      ],
      "metadata": {
        "colab": {
          "base_uri": "https://localhost:8080/"
        },
        "id": "XesEKC8xKzSa",
        "outputId": "632929d3-a0f6-41cc-bf58-a2dcbb0f3fed"
      },
      "execution_count": 59,
      "outputs": [
        {
          "output_type": "stream",
          "name": "stdout",
          "text": [
            "[ 0 -1  0]\n"
          ]
        }
      ]
    },
    {
      "cell_type": "code",
      "source": [],
      "metadata": {
        "id": "Gtpz4nrkVggP"
      },
      "execution_count": null,
      "outputs": []
    }
  ]
}