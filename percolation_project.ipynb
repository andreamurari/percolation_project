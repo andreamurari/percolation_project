{
  "nbformat": 4,
  "nbformat_minor": 0,
  "metadata": {
    "colab": {
      "provenance": [],
      "authorship_tag": "ABX9TyON+7SgTBlv7M8YZyNBJJrQ",
      "include_colab_link": true
    },
    "kernelspec": {
      "name": "python3",
      "display_name": "Python 3"
    },
    "language_info": {
      "name": "python"
    }
  },
  "cells": [
    {
      "cell_type": "markdown",
      "metadata": {
        "id": "view-in-github",
        "colab_type": "text"
      },
      "source": [
        "<a href=\"https://colab.research.google.com/github/andreamurari/percolation_project/blob/main/percolation_project.ipynb\" target=\"_parent\"><img src=\"https://colab.research.google.com/assets/colab-badge.svg\" alt=\"Open In Colab\"/></a>"
      ]
    },
    {
      "cell_type": "code",
      "execution_count": 1,
      "metadata": {
        "id": "iEIGS-czSwsg"
      },
      "outputs": [],
      "source": [
        "import math\n",
        "import numpy as np\n",
        "import matplotlib.pyplot as plt\n",
        "from scipy.stats import poisson\n",
        "from sklearn.cluster import DBSCAN"
      ]
    },
    {
      "cell_type": "markdown",
      "source": [
        "#FUNZIONI"
      ],
      "metadata": {
        "id": "QJ7UeL-hJNp4"
      }
    },
    {
      "cell_type": "code",
      "source": [
        "#FUNZIONE CHE GENERA COORDINATE\n",
        "\n",
        "def generate_poisson_coordinates(T, k):\n",
        "  # Step 1: Generate N from Poisson distribution\n",
        "  N = np.random.poisson(k * T**2)\n",
        "  # Step 2: Check if N is zero and handle termination\n",
        "  if N == 0:\n",
        "    return []\n",
        "  # Step 3: Generate random numbers and scale to coordinates\n",
        "  else:\n",
        "    coordinates_x = []\n",
        "    coordinates_y = []\n",
        "    for _ in range(N):\n",
        "      U = np.random.random()\n",
        "      V = np.random.random()\n",
        "      coordinates_x.append(U * T)\n",
        "      coordinates_y.append(V * T)\n",
        "  print (f\"N = {N} \\nCoordinates X = {coordinates_x} \\nCoordinates Y = {coordinates_y}\")\n",
        "  return coordinates_x, coordinates_y"
      ],
      "metadata": {
        "id": "3rTh4ff-Yv-M"
      },
      "execution_count": 2,
      "outputs": []
    },
    {
      "cell_type": "code",
      "source": [
        "#FUNZIONE CHE CREA CLUSTER\n",
        "def clusterizza_e_rimuovi_duplicati(coordinates_x, coordinates_y, eps=1.0, min_samples=2):\n",
        "  \"\"\"\n",
        "  Clusters points based on their distance using DBSCAN and removes duplicate clusters.\n",
        "\n",
        "  Args:\n",
        "    coordinates_x: List of x-coordinates.\n",
        "    coordinates_y: List of y-coordinates.\n",
        "    eps (float, optional): The maximum distance between two points to be considered neighbors. Defaults to 1.0.\n",
        "    min_samples (int, optional): The minimum number of samples (including a point itself) to form a dense region. Defaults to 2.\n",
        "\n",
        "  Returns:\n",
        "    A list of unique clusters, where each cluster is a list of point indices.\n",
        "  \"\"\"\n",
        "\n",
        "  # Combine x and y coordinates into a single NumPy array\n",
        "  coordinates = np.array(list(zip(coordinates_x, coordinates_y)))\n",
        "\n",
        "  # Create a DBSCAN instance with specified parameters\n",
        "  db = DBSCAN(eps=eps, min_samples=min_samples)\n",
        "\n",
        "  # Fit the model to the data points\n",
        "  db.fit(coordinates)\n",
        "\n",
        "  # Extract cluster labels for each point\n",
        "  cluster_labels = db.labels_\n",
        "\n",
        "  # Create a dictionary to store clusters efficiently (avoid duplicates)\n",
        "  clusters = {}\n",
        "  for i, label in enumerate(cluster_labels):\n",
        "    # Skip noise points (labeled -1)\n",
        "    if label == -1:\n",
        "      continue\n",
        "    # Add points to their cluster (dictionary key) using sets to remove duplicates within a cluster\n",
        "    clusters.setdefault(label, set()).add(i)\n",
        "\n",
        "  unique_clusters = list(clusters.values())\n",
        "  return unique_clusters"
      ],
      "metadata": {
        "id": "f1zhYdg2jN5_"
      },
      "execution_count": 3,
      "outputs": []
    },
    {
      "cell_type": "code",
      "source": [
        "#FUNZIONE PER SIZE DEL CLUSTER PIU GRANDE\n",
        "def largest_cluster_size (clusters):\n",
        "  max_cluster_size = 0\n",
        "  for cluster in clusters:\n",
        "    if len(cluster) > max_cluster_size:\n",
        "      max_cluster_size = len(cluster)\n",
        "  return max_cluster_size"
      ],
      "metadata": {
        "id": "tmXnxIpD868S"
      },
      "execution_count": 4,
      "outputs": []
    },
    {
      "cell_type": "code",
      "source": [
        "#FUNZIONE CHE RESTITUISCE IL NUMERO DI CLUSTERS\n",
        "def number_of_clusters(clusters):\n",
        "  return len(clusters)"
      ],
      "metadata": {
        "id": "nQodVhIGI7nY"
      },
      "execution_count": 5,
      "outputs": []
    },
    {
      "cell_type": "markdown",
      "source": [
        "#SVOLGIMENTO"
      ],
      "metadata": {
        "id": "xbz4bbkxJJiM"
      }
    },
    {
      "cell_type": "code",
      "source": [
        "T = 5\n",
        "l = 1"
      ],
      "metadata": {
        "id": "r6CuGsFuUh7L"
      },
      "execution_count": 6,
      "outputs": []
    },
    {
      "cell_type": "code",
      "source": [
        "coordinates_x, coordinates_y = generate_poisson_coordinates(T, l)"
      ],
      "metadata": {
        "colab": {
          "base_uri": "https://localhost:8080/"
        },
        "id": "5EZybSIgdbh2",
        "outputId": "1b30e70f-a208-473a-9ffc-6b219b0703dc"
      },
      "execution_count": 7,
      "outputs": [
        {
          "output_type": "stream",
          "name": "stdout",
          "text": [
            "N = 15 \n",
            "Coordinates X = [1.8060704671259065, 0.6510462199507056, 3.7576680409783942, 4.512827755331187, 2.1432729733268845, 0.7550005853491115, 4.784937513608937, 3.7910352183230605, 3.850399734947355, 3.9138970890733784, 2.399936166366348, 0.9186029039143745, 4.301658905401246, 2.4467908239971075, 2.7434090035050267] \n",
            "Coordinates Y = [0.8429372203927671, 2.0934434034726666, 4.241925774686612, 3.5391431565274276, 2.2327074865159577, 4.368333301513857, 1.5161600916930373, 4.914800669921026, 4.289523720814015, 2.0189484122831898, 1.8037291039599896, 0.7914841488328084, 3.976912845708221, 4.5592497565664205, 3.406109729613585]\n"
          ]
        }
      ]
    },
    {
      "cell_type": "code",
      "source": [
        "plt.figure(figsize = (10, 10))\n",
        "plt.scatter (coordinates_x, coordinates_y)\n",
        "plt.xticks(range(0, T + 1, 1))\n",
        "plt.yticks(range(0, T + 1, 1))\n",
        "plt.show()"
      ],
      "metadata": {
        "id": "0l3fODE7fh3l",
        "colab": {
          "base_uri": "https://localhost:8080/",
          "height": 830
        },
        "outputId": "403af123-90a4-4b11-d880-5e70ef5cba30"
      },
      "execution_count": 8,
      "outputs": [
        {
          "output_type": "display_data",
          "data": {
            "text/plain": [
              "<Figure size 1000x1000 with 1 Axes>"
            ],
            "image/png": "[encoded data removed]"
          },
          "metadata": {}
        }
      ]
    },
    {
      "cell_type": "code",
      "source": [
        "clusters = clusterizza_e_rimuovi_duplicati(coordinates_x, coordinates_y)\n",
        "print(clusters)"
      ],
      "metadata": {
        "colab": {
          "base_uri": "https://localhost:8080/"
        },
        "id": "ZsOmO3MN8O0F",
        "outputId": "88fb3735-b3ff-44b8-fea6-68c763738364"
      },
      "execution_count": 9,
      "outputs": [
        {
          "output_type": "stream",
          "name": "stdout",
          "text": [
            "[{0, 11}, {2, 3, 7, 8, 12}, {10, 4}]\n"
          ]
        }
      ]
    },
    {
      "cell_type": "code",
      "source": [
        "largest_cluster_size(clusters)"
      ],
      "metadata": {
        "colab": {
          "base_uri": "https://localhost:8080/"
        },
        "id": "NHAHw616Dpw0",
        "outputId": "bd7c69bc-a8e4-4bdd-eeb1-98358f0214b0"
      },
      "execution_count": 10,
      "outputs": [
        {
          "output_type": "execute_result",
          "data": {
            "text/plain": [
              "5"
            ]
          },
          "metadata": {},
          "execution_count": 10
        }
      ]
    }
  ]
}